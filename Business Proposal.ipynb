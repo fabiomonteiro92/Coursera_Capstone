{
 "cells": [
  {
   "cell_type": "markdown",
   "metadata": {},
   "source": [
    "# The Battle of Neighborhoods | Introduction | Business Problem "
   ]
  },
  {
   "cell_type": "markdown",
   "metadata": {},
   "source": [
    "## Introduction:"
   ]
  },
  {
   "cell_type": "markdown",
   "metadata": {},
   "source": [
    "This Project has the main aim of this project is to help people who just arrived at the city of Porto (Portugal) to decide which is the most appropriate parish for them. \n",
    "\n",
    "Porto is included in the top 100 and the top 40, at world and European level, respectively, as a top city to live in, according to the Quality of Life Index 2019 (1). Therefore, the city has experienced a strong migration movement for the past few years. This project will help newcomers decide among the nine main parishes of Porto (2), which is the most appropriate for them based on ease of access to shops, theaters, schools, health care services, etc. \n",
    "\n",
    "Thus, the project will determine which of the nine main parishes of Porto is better suited for each person. With this in mind, we will perform a cluster analysis to group the parishes of Porto according to the characteristics of their venues (e.g., shop, schools, supermarkets), which will help newcomers to decide which is the best type of parish for them, based on the most frequent type of venues in each parish."
   ]
  },
  {
   "cell_type": "markdown",
   "metadata": {},
   "source": [
    "## Main Problem:"
   ]
  },
  {
   "cell_type": "markdown",
   "metadata": {},
   "source": [
    "The main aim of this project is to help people moving to Porto (Portugal) to select between the nine main parishes which is better suited for them, based on the most frequent venues (e.g. schools, cafes, restaurants, housing) in each parish."
   ]
  },
  {
   "cell_type": "markdown",
   "metadata": {},
   "source": [
    "## Location:"
   ]
  },
  {
   "cell_type": "markdown",
   "metadata": {},
   "source": [
    "Located in the North of Portugal along the Douro river, Porto is a beautiful city to live in. Picturesque and authentic, Porto is the second-largest city of Portugal. It is notably famous for its Porto wine, gastronomy, and architecture, which have attracted many tourists over the years. For those looking to work in Porto, the city has been an upcoming hub for the start-up scene, with many international entrepreneurs relocating to Porto (3)."
   ]
  },
  {
   "cell_type": "markdown",
   "metadata": {},
   "source": [
    "## Foursquare API:"
   ]
  },
  {
   "cell_type": "markdown",
   "metadata": {},
   "source": [
    "We will would the Four-square API to gahther data. This API stores data from millions of places, and allows us to perform location search, location sharing and provides us with details about a business.\n",
    "We will use Foursquare API features credentials of near-by places to mine the parishes. Due to http request limitations the number of places per parish parameter would reasonably be set to 100 and the radius parameter would be set to 700."
   ]
  },
  {
   "cell_type": "markdown",
   "metadata": {},
   "source": [
    "## Clustering Approach:"
   ]
  },
  {
   "cell_type": "markdown",
   "metadata": {},
   "source": [
    "To compare the nine main parishes of Porto, we will explore the parishes, segment them, and group them into clusters. To achieve this, we will cluster data with the k-means clustering algorithm."
   ]
  },
  {
   "cell_type": "markdown",
   "metadata": {},
   "source": [
    "## Libraries used throughout the Project"
   ]
  },
  {
   "cell_type": "markdown",
   "metadata": {},
   "source": [
    "Folium: This library will be used to visualize the clusters of parishes and to create an interactive leaflet map.\n",
    "\n",
    "Pandas: To create and manipulate dataframes.\n",
    "\n",
    "Numpy: To help to sort the venues in each parish\n",
    "\n",
    "JSON: To handle JSON files.\n",
    "\n",
    "Matplotlib: To plot graphs.\n",
    "\n",
    "Scikit Learn: To import and develop a clustering algorithm based on k-means clustering.\n",
    "\n",
    "Geocoder: To retrieve Location Data."
   ]
  },
  {
   "cell_type": "markdown",
   "metadata": {},
   "source": [
    "## References"
   ]
  },
  {
   "cell_type": "markdown",
   "metadata": {},
   "source": [
    "1. Porto. https://www.porto.pt/en/news/porto-is-a-top-city-to-live-in-says-the-quality-of-life-index-2019-by-numbeo. Retrieved 9 February 2021.\n",
    "2. Eurodicas. https://www.eurodicas.com.br/melhores-bairros-do-porto/. Retrieved 9 February 2021.\n",
    "3. Global Citizen Solutions. https://www.globalcitizensolutions.com/portugal-best-cities/. Retrieved 9 February 2021."
   ]
  }
 ],
 "metadata": {
  "kernelspec": {
   "display_name": "Python",
   "language": "python",
   "name": "conda-env-python-py"
  },
  "language_info": {
   "codemirror_mode": {
    "name": "ipython",
    "version": 3
   },
   "file_extension": ".py",
   "mimetype": "text/x-python",
   "name": "python",
   "nbconvert_exporter": "python",
   "pygments_lexer": "ipython3",
   "version": "3.6.12"
  }
 },
 "nbformat": 4,
 "nbformat_minor": 4
}
