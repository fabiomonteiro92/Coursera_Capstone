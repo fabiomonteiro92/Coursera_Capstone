{
 "cells": [
  {
   "cell_type": "markdown",
   "metadata": {},
   "source": [
    "# The Battle of Neighborhoods | Data Description"
   ]
  },
  {
   "cell_type": "markdown",
   "metadata": {},
   "source": [
    "## Portuguese Post Office Zip Code Database:"
   ]
  },
  {
   "cell_type": "markdown",
   "metadata": {},
   "source": [
    "Hyperlink: https://www.ctt.pt/feapl_2/app/restricted/postalCodeSearch/postalCodeDownloadFiles.jspx\n",
    "\n",
    "We will use a database provided by the Portuguese Postal Services to get the information regarding the zip codes of each parish of Porto.\n",
    "This data base contains the all the zip codes of Portugal. The file is quite large. Therefore, we have filtered the zip codes of Porto's parish in excel and uploaded a CSV file that solely contains the zip codes of Porto's parishes."
   ]
  },
  {
   "cell_type": "markdown",
   "metadata": {},
   "source": [
    "## Foursquare API Data:"
   ]
  },
  {
   "cell_type": "markdown",
   "metadata": {},
   "source": [
    "In order to gather  information we will use \"Foursquare\" locational information about the venues present in each parish. Foursquare is a location data provider that allows us to retrieve information about venues within an area of interest. The API allows us to retrieve information about venue names, locations, menus and even photos. The foursquare location platform will be used as the sole data source.\n",
    "\n",
    "After we gather the information regarding the geolocation of the nine parishes of Porto into a Dataframe, we will use the Foursquare API to gather information about venues in each parish. For each parish, we will set the radius to 700 meters.\n",
    "\n",
    "We will use this API to gather information of venues within a specified distance of the longitude and latitude of the zip code. We will gather the following information for each Parish:\n",
    "\n",
    "1. Parish\n",
    "2. Parish Latitude\n",
    "3. Parish Longitude\n",
    "4. Venue\n",
    "5. Name of the venue e.g. the name of a store or restaurant\n",
    "6. Venue Latitude\n",
    "7. Venue Longitude\n",
    "8. Venue Category"
   ]
  }
 ],
 "metadata": {
  "kernelspec": {
   "display_name": "Python",
   "language": "python",
   "name": "conda-env-python-py"
  },
  "language_info": {
   "codemirror_mode": {
    "name": "ipython",
    "version": 3
   },
   "file_extension": ".py",
   "mimetype": "text/x-python",
   "name": "python",
   "nbconvert_exporter": "python",
   "pygments_lexer": "ipython3",
   "version": "3.6.12"
  }
 },
 "nbformat": 4,
 "nbformat_minor": 4
}
